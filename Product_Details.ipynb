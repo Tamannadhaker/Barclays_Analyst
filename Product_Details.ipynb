{
 "cells": [
  {
   "cell_type": "code",
   "execution_count": 17,
   "id": "2ef8f0be-be98-4aa1-927d-7e6ff477f0a1",
   "metadata": {},
   "outputs": [],
   "source": [
    "import pyspark\n",
    "from pyspark.sql import SparkSession\n",
    "spark= SparkSession.builder.appName(\"Product_details\").getOrCreate()\n",
    "df = spark.read.csv( \"P_Lookup.csv\", header= True, inferSchema= True)\n",
    "df1 =spark.read.csv( \"Customer_Products.csv\", header= True, inferSchema= True)"
   ]
  },
  {
   "cell_type": "code",
   "execution_count": 18,
   "id": "f7cb187b-07af-420c-9de2-6dde4cd3011e",
   "metadata": {},
   "outputs": [
    {
     "name": "stdout",
     "output_type": "stream",
     "text": [
      "+---------+--------+-------------------+----------+----------+\n",
      "|Prod code|Prod cls|          Prod name|Start Date|  End Date|\n",
      "+---------+--------+-------------------+----------+----------+\n",
      "|     1001|   Loans|          Home loan|1980-01-01|31-12-4599|\n",
      "|     1002|   Loans|      Personal Loan|1980-01-01|31-12-4599|\n",
      "|     1003|   Loans|           car loan|2001-06-01|31-12-4599|\n",
      "|     1004|   Loans|       student loan|2007-06-13|31-12-4599|\n",
      "|     1005|   Loans|          gold loan|2010-05-01|31-12-4599|\n",
      "|     1006|   Loans|    automobile loan|1975-06-01|31-12-4599|\n",
      "|     1007|   Loans|      buisness loan|2000-05-01|31-12-4599|\n",
      "|     1008|   Loans|small business loan|1980-01-01|31-12-4599|\n",
      "|     1009|   Loans|    home loan extra|2016-12-04|31-12-4599|\n",
      "|     1010|   Loans| personal loan plus|2010-03-11|31-12-4599|\n",
      "|     1011|   Loans|          home loan|2007-06-14|31-12-4599|\n",
      "|     2001|   Cards|             Travel|2000-05-01|31-12-4599|\n",
      "|     2002|   Cards|            rewards|2008-12-01|31-12-4599|\n",
      "|     2003|   Cards|           business|2018-12-25|31-12-4599|\n",
      "|     2004|   Cards|     credit builder|1975-06-01|31-12-4599|\n",
      "|     2005|   Cards|           purchase|2015-03-10|31-12-4599|\n",
      "|     2006|   Cards|        travel plus|2005-03-10|31-12-4599|\n",
      "|     2007|   Cards|     credit builder|2005-03-10|31-12-4599|\n",
      "|     3001| Savings|          Max Saver|1995-06-30|31-12-4599|\n",
      "|     3002| Savings|          Tax Saver|1995-06-30|31-12-4599|\n",
      "+---------+--------+-------------------+----------+----------+\n",
      "only showing top 20 rows\n",
      "\n",
      "root\n",
      " |-- Prod code: integer (nullable = true)\n",
      " |-- Prod cls: string (nullable = true)\n",
      " |-- Prod name: string (nullable = true)\n",
      " |-- Start Date: date (nullable = true)\n",
      " |-- End Date: string (nullable = true)\n",
      "\n",
      "+----------+---------+----------+----------+\n",
      "|      CSID|Prod code|start date|  End date|\n",
      "+----------+---------+----------+----------+\n",
      "|2345450601|     7001|2021-12-17|31-12-4399|\n",
      "|2345450602|     3001|1996-10-29|31-12-4399|\n",
      "|2345450603|     8004|2021-06-01|31-12-4399|\n",
      "|2345450604|     7001|2020-08-12|31-12-4399|\n",
      "|2345450605|     5004|2010-05-05|31-12-4399|\n",
      "|2345450606|     8004|2017-06-19|31-12-4399|\n",
      "|2345450607|     1004|2014-09-13|31-12-4399|\n",
      "|2345450608|     2003|2023-06-10|31-12-4399|\n",
      "|2345450609|     5002|2011-09-21|31-12-4399|\n",
      "|2345450610|     2002|2020-03-09|31-12-4399|\n",
      "|2345450611|     1006|1978-02-06|31-12-4399|\n",
      "|2345450612|     3004|2020-05-20|31-12-4399|\n",
      "|2345450613|     5001|2004-10-01|31-12-4399|\n",
      "|2345450614|     8005|2022-12-07|31-12-4399|\n",
      "|2345450615|     2005|2024-01-25|31-12-4399|\n",
      "|2345450616|     2005|2022-12-15|31-12-4399|\n",
      "|2345450617|     6003|2004-01-23|31-12-4399|\n",
      "|2345450618|     3005|2009-03-04|31-12-4399|\n",
      "|2345450619|     5002|2011-05-15|31-12-4399|\n",
      "|2345450620|     2002|2017-10-22|31-12-4399|\n",
      "+----------+---------+----------+----------+\n",
      "only showing top 20 rows\n",
      "\n",
      "root\n",
      " |-- CSID: long (nullable = true)\n",
      " |-- Prod code: integer (nullable = true)\n",
      " |-- start date: date (nullable = true)\n",
      " |-- End date: string (nullable = true)\n",
      "\n"
     ]
    }
   ],
   "source": [
    "df.show()\n",
    "df.printSchema()\n",
    "df1.show()\n",
    "df1.printSchema()\n"
   ]
  },
  {
   "cell_type": "code",
   "execution_count": 24,
   "id": "7f56e6d1-47dd-4de7-a066-c2581d179f1a",
   "metadata": {},
   "outputs": [],
   "source": [
    "data = df1.select(col(\"start date\").alias(\"start_date2\"), col(\"End date\").alias(\"End_date2\"),col(\"CSID\").alias(\"CSID\"), col(\"Prod code\").alias(\"Prod code\"))"
   ]
  },
  {
   "cell_type": "code",
   "execution_count": 25,
   "id": "600efa2b-ec22-498a-961e-bdedc695d0ad",
   "metadata": {},
   "outputs": [
    {
     "name": "stdout",
     "output_type": "stream",
     "text": [
      "+-----------+----------+----------+---------+\n",
      "|start_date2| End_date2|      CSID|Prod code|\n",
      "+-----------+----------+----------+---------+\n",
      "| 2021-12-17|31-12-4399|2345450601|     7001|\n",
      "| 1996-10-29|31-12-4399|2345450602|     3001|\n",
      "| 2021-06-01|31-12-4399|2345450603|     8004|\n",
      "| 2020-08-12|31-12-4399|2345450604|     7001|\n",
      "| 2010-05-05|31-12-4399|2345450605|     5004|\n",
      "| 2017-06-19|31-12-4399|2345450606|     8004|\n",
      "| 2014-09-13|31-12-4399|2345450607|     1004|\n",
      "| 2023-06-10|31-12-4399|2345450608|     2003|\n",
      "| 2011-09-21|31-12-4399|2345450609|     5002|\n",
      "| 2020-03-09|31-12-4399|2345450610|     2002|\n",
      "| 1978-02-06|31-12-4399|2345450611|     1006|\n",
      "| 2020-05-20|31-12-4399|2345450612|     3004|\n",
      "| 2004-10-01|31-12-4399|2345450613|     5001|\n",
      "| 2022-12-07|31-12-4399|2345450614|     8005|\n",
      "| 2024-01-25|31-12-4399|2345450615|     2005|\n",
      "| 2022-12-15|31-12-4399|2345450616|     2005|\n",
      "| 2004-01-23|31-12-4399|2345450617|     6003|\n",
      "| 2009-03-04|31-12-4399|2345450618|     3005|\n",
      "| 2011-05-15|31-12-4399|2345450619|     5002|\n",
      "| 2017-10-22|31-12-4399|2345450620|     2002|\n",
      "+-----------+----------+----------+---------+\n",
      "only showing top 20 rows\n",
      "\n"
     ]
    }
   ],
   "source": [
    "data.show()"
   ]
  },
  {
   "cell_type": "code",
   "execution_count": 26,
   "id": "c068d80e-0403-456c-a7f8-a87e86c26a2b",
   "metadata": {},
   "outputs": [
    {
     "name": "stdout",
     "output_type": "stream",
     "text": [
      "+---------+--------+---------+----------+----------+-----------+----------+----------+\n",
      "|Prod code|Prod cls|Prod name|Start Date|  End Date|start_date2| End_date2|      CSID|\n",
      "+---------+--------+---------+----------+----------+-----------+----------+----------+\n",
      "|     1001|   Loans|Home loan|1980-01-01|31-12-4599| 1993-09-22|31-12-4399|2345650586|\n",
      "|     1001|   Loans|Home loan|1980-01-01|31-12-4599| 2005-12-30|31-12-4399|2345650511|\n",
      "|     1001|   Loans|Home loan|1980-01-01|31-12-4599| 1994-05-07|31-12-4399|2345650501|\n",
      "|     1001|   Loans|Home loan|1980-01-01|31-12-4599| 1990-02-22|31-12-4399|2345650427|\n",
      "|     1001|   Loans|Home loan|1980-01-01|31-12-4599| 2000-11-06|31-12-4399|2345650408|\n",
      "|     1001|   Loans|Home loan|1980-01-01|31-12-4599| 2004-04-04|31-12-4399|2345650376|\n",
      "|     1001|   Loans|Home loan|1980-01-01|31-12-4599| 2011-05-16|31-12-4399|2345650321|\n",
      "|     1001|   Loans|Home loan|1980-01-01|31-12-4599| 1991-12-25|31-12-4399|2345650311|\n",
      "|     1001|   Loans|Home loan|1980-01-01|31-12-4599| 1997-03-27|31-12-4399|2345650306|\n",
      "|     1001|   Loans|Home loan|1980-01-01|31-12-4599| 1995-05-28|31-12-4399|2345650271|\n",
      "|     1001|   Loans|Home loan|1980-01-01|31-12-4599| 2018-01-24|31-12-4399|2345650248|\n",
      "|     1001|   Loans|Home loan|1980-01-01|31-12-4599| 2001-03-25|31-12-4399|2345650180|\n",
      "|     1001|   Loans|Home loan|1980-01-01|31-12-4599| 1990-03-22|31-12-4399|2345650128|\n",
      "|     1001|   Loans|Home loan|1980-01-01|31-12-4599| 2006-04-30|31-12-4399|2345650073|\n",
      "|     1001|   Loans|Home loan|1980-01-01|31-12-4599| 2007-09-15|31-12-4399|2345650007|\n",
      "|     1001|   Loans|Home loan|1980-01-01|31-12-4599| 2011-01-20|31-12-4399|2345649982|\n",
      "|     1001|   Loans|Home loan|1980-01-01|31-12-4599| 2024-03-08|31-12-4399|2345649926|\n",
      "|     1001|   Loans|Home loan|1980-01-01|31-12-4599| 1983-10-13|31-12-4399|2345649923|\n",
      "|     1001|   Loans|Home loan|1980-01-01|31-12-4599| 2003-06-10|31-12-4399|2345649919|\n",
      "|     1001|   Loans|Home loan|1980-01-01|31-12-4599| 1987-08-26|31-12-4399|2345649905|\n",
      "+---------+--------+---------+----------+----------+-----------+----------+----------+\n",
      "only showing top 20 rows\n",
      "\n"
     ]
    }
   ],
   "source": [
    "df_lj = df.join(data, on=\"Prod code\", how=\"left\")\n",
    "df_lj.show()"
   ]
  },
  {
   "cell_type": "code",
   "execution_count": 5,
   "id": "1e096dc2-e55f-4a43-8950-c99a0478b1f6",
   "metadata": {},
   "outputs": [
    {
     "name": "stdout",
     "output_type": "stream",
     "text": [
      "+---------+-----+\n",
      "|Prod code|count|\n",
      "+---------+-----+\n",
      "|     1005| 4861|\n",
      "|     8003| 4868|\n",
      "|     2003| 4846|\n",
      "|     2007| 4878|\n",
      "|     8001| 4910|\n",
      "|     2006| 4924|\n",
      "|     5003| 4925|\n",
      "|     8004| 4874|\n",
      "|     8005| 5027|\n",
      "|     7001| 5000|\n",
      "|     NULL|  958|\n",
      "|     1008| 4859|\n",
      "|     5001| 5027|\n",
      "|     5004| 4774|\n",
      "|     4001| 4777|\n",
      "|     6002| 5001|\n",
      "|     3001| 4764|\n",
      "|     1010| 4841|\n",
      "|     1002| 4910|\n",
      "|     8002| 4835|\n",
      "+---------+-----+\n",
      "only showing top 20 rows\n",
      "\n",
      "+----------+-----+\n",
      "|  Prod cls|count|\n",
      "+----------+-----+\n",
      "| Insurance|24514|\n",
      "|   Savings|24178|\n",
      "|      NULL|  958|\n",
      "|     Loans|53794|\n",
      "|     Cards|34177|\n",
      "| Mortgages|14732|\n",
      "|   Current|19157|\n",
      "|Investment|19667|\n",
      "|     Forex| 9781|\n",
      "+----------+-----+\n",
      "\n",
      "+--------------------+-----+\n",
      "|           Prod name|count|\n",
      "+--------------------+-----+\n",
      "|           gold loan| 4861|\n",
      "|Certificate of de...| 4836|\n",
      "|      Limited Access| 4896|\n",
      "|    Travel Insurance| 5027|\n",
      "|                NULL|  958|\n",
      "|              Travel| 4869|\n",
      "|      credit builder| 9740|\n",
      "|       Personal Loan| 4910|\n",
      "|            car loan| 4833|\n",
      "|            purchase| 4812|\n",
      "|      Home Insurance| 4910|\n",
      "|           Tax Saver| 4786|\n",
      "|             Managed| 4781|\n",
      "|         travel plus| 4924|\n",
      "|    health insurance| 4874|\n",
      "|           home loan| 4892|\n",
      "|               Joint| 4763|\n",
      "|  personal loan plus| 4841|\n",
      "|       Youth Account| 4792|\n",
      "|automobile insurance| 4835|\n",
      "+--------------------+-----+\n",
      "only showing top 20 rows\n",
      "\n"
     ]
    }
   ],
   "source": [
    "df_lj.groupBy('Prod code').count().show()\n",
    "df_lj.groupBy('Prod cls').count().show()\n",
    "df_lj.groupBy('Prod name').count().show()"
   ]
  },
  {
   "cell_type": "code",
   "execution_count": 28,
   "id": "eac6a9e5-b51a-41e3-b525-001220884574",
   "metadata": {},
   "outputs": [
    {
     "name": "stdout",
     "output_type": "stream",
     "text": [
      "+---------+--------+---------+----------+--------+-----------+---------+----+\n",
      "|Prod code|Prod cls|Prod name|Start Date|End Date|start_date2|End_date2|CSID|\n",
      "+---------+--------+---------+----------+--------+-----------+---------+----+\n",
      "|     NULL|    NULL|     NULL|      NULL|    NULL|       NULL|     NULL|NULL|\n",
      "|     NULL|    NULL|     NULL|      NULL|    NULL|       NULL|     NULL|NULL|\n",
      "|     NULL|    NULL|     NULL|      NULL|    NULL|       NULL|     NULL|NULL|\n",
      "|     NULL|    NULL|     NULL|      NULL|    NULL|       NULL|     NULL|NULL|\n",
      "|     NULL|    NULL|     NULL|      NULL|    NULL|       NULL|     NULL|NULL|\n",
      "|     NULL|    NULL|     NULL|      NULL|    NULL|       NULL|     NULL|NULL|\n",
      "|     NULL|    NULL|     NULL|      NULL|    NULL|       NULL|     NULL|NULL|\n",
      "|     NULL|    NULL|     NULL|      NULL|    NULL|       NULL|     NULL|NULL|\n",
      "|     NULL|    NULL|     NULL|      NULL|    NULL|       NULL|     NULL|NULL|\n",
      "|     NULL|    NULL|     NULL|      NULL|    NULL|       NULL|     NULL|NULL|\n",
      "|     NULL|    NULL|     NULL|      NULL|    NULL|       NULL|     NULL|NULL|\n",
      "|     NULL|    NULL|     NULL|      NULL|    NULL|       NULL|     NULL|NULL|\n",
      "|     NULL|    NULL|     NULL|      NULL|    NULL|       NULL|     NULL|NULL|\n",
      "|     NULL|    NULL|     NULL|      NULL|    NULL|       NULL|     NULL|NULL|\n",
      "|     NULL|    NULL|     NULL|      NULL|    NULL|       NULL|     NULL|NULL|\n",
      "|     NULL|    NULL|     NULL|      NULL|    NULL|       NULL|     NULL|NULL|\n",
      "|     NULL|    NULL|     NULL|      NULL|    NULL|       NULL|     NULL|NULL|\n",
      "|     NULL|    NULL|     NULL|      NULL|    NULL|       NULL|     NULL|NULL|\n",
      "|     NULL|    NULL|     NULL|      NULL|    NULL|       NULL|     NULL|NULL|\n",
      "|     NULL|    NULL|     NULL|      NULL|    NULL|       NULL|     NULL|NULL|\n",
      "+---------+--------+---------+----------+--------+-----------+---------+----+\n",
      "only showing top 20 rows\n",
      "\n",
      "+---------+--------+---------+----------+--------+-----------+---------+----+\n",
      "|Prod code|Prod cls|Prod name|Start Date|End Date|start_date2|End_date2|CSID|\n",
      "+---------+--------+---------+----------+--------+-----------+---------+----+\n",
      "|     NULL|    NULL|     NULL|      NULL|    NULL|       NULL|     NULL|NULL|\n",
      "|     NULL|    NULL|     NULL|      NULL|    NULL|       NULL|     NULL|NULL|\n",
      "|     NULL|    NULL|     NULL|      NULL|    NULL|       NULL|     NULL|NULL|\n",
      "|     NULL|    NULL|     NULL|      NULL|    NULL|       NULL|     NULL|NULL|\n",
      "|     NULL|    NULL|     NULL|      NULL|    NULL|       NULL|     NULL|NULL|\n",
      "|     NULL|    NULL|     NULL|      NULL|    NULL|       NULL|     NULL|NULL|\n",
      "|     NULL|    NULL|     NULL|      NULL|    NULL|       NULL|     NULL|NULL|\n",
      "|     NULL|    NULL|     NULL|      NULL|    NULL|       NULL|     NULL|NULL|\n",
      "|     NULL|    NULL|     NULL|      NULL|    NULL|       NULL|     NULL|NULL|\n",
      "|     NULL|    NULL|     NULL|      NULL|    NULL|       NULL|     NULL|NULL|\n",
      "|     NULL|    NULL|     NULL|      NULL|    NULL|       NULL|     NULL|NULL|\n",
      "|     NULL|    NULL|     NULL|      NULL|    NULL|       NULL|     NULL|NULL|\n",
      "|     NULL|    NULL|     NULL|      NULL|    NULL|       NULL|     NULL|NULL|\n",
      "|     NULL|    NULL|     NULL|      NULL|    NULL|       NULL|     NULL|NULL|\n",
      "|     NULL|    NULL|     NULL|      NULL|    NULL|       NULL|     NULL|NULL|\n",
      "|     NULL|    NULL|     NULL|      NULL|    NULL|       NULL|     NULL|NULL|\n",
      "|     NULL|    NULL|     NULL|      NULL|    NULL|       NULL|     NULL|NULL|\n",
      "|     NULL|    NULL|     NULL|      NULL|    NULL|       NULL|     NULL|NULL|\n",
      "|     NULL|    NULL|     NULL|      NULL|    NULL|       NULL|     NULL|NULL|\n",
      "|     NULL|    NULL|     NULL|      NULL|    NULL|       NULL|     NULL|NULL|\n",
      "+---------+--------+---------+----------+--------+-----------+---------+----+\n",
      "only showing top 20 rows\n",
      "\n",
      "+---------+--------+---------+----------+--------+-----------+---------+----+\n",
      "|Prod code|Prod cls|Prod name|Start Date|End Date|start_date2|End_date2|CSID|\n",
      "+---------+--------+---------+----------+--------+-----------+---------+----+\n",
      "|     NULL|    NULL|     NULL|      NULL|    NULL|       NULL|     NULL|NULL|\n",
      "|     NULL|    NULL|     NULL|      NULL|    NULL|       NULL|     NULL|NULL|\n",
      "|     NULL|    NULL|     NULL|      NULL|    NULL|       NULL|     NULL|NULL|\n",
      "|     NULL|    NULL|     NULL|      NULL|    NULL|       NULL|     NULL|NULL|\n",
      "|     NULL|    NULL|     NULL|      NULL|    NULL|       NULL|     NULL|NULL|\n",
      "|     NULL|    NULL|     NULL|      NULL|    NULL|       NULL|     NULL|NULL|\n",
      "|     NULL|    NULL|     NULL|      NULL|    NULL|       NULL|     NULL|NULL|\n",
      "|     NULL|    NULL|     NULL|      NULL|    NULL|       NULL|     NULL|NULL|\n",
      "|     NULL|    NULL|     NULL|      NULL|    NULL|       NULL|     NULL|NULL|\n",
      "|     NULL|    NULL|     NULL|      NULL|    NULL|       NULL|     NULL|NULL|\n",
      "|     NULL|    NULL|     NULL|      NULL|    NULL|       NULL|     NULL|NULL|\n",
      "|     NULL|    NULL|     NULL|      NULL|    NULL|       NULL|     NULL|NULL|\n",
      "|     NULL|    NULL|     NULL|      NULL|    NULL|       NULL|     NULL|NULL|\n",
      "|     NULL|    NULL|     NULL|      NULL|    NULL|       NULL|     NULL|NULL|\n",
      "|     NULL|    NULL|     NULL|      NULL|    NULL|       NULL|     NULL|NULL|\n",
      "|     NULL|    NULL|     NULL|      NULL|    NULL|       NULL|     NULL|NULL|\n",
      "|     NULL|    NULL|     NULL|      NULL|    NULL|       NULL|     NULL|NULL|\n",
      "|     NULL|    NULL|     NULL|      NULL|    NULL|       NULL|     NULL|NULL|\n",
      "|     NULL|    NULL|     NULL|      NULL|    NULL|       NULL|     NULL|NULL|\n",
      "|     NULL|    NULL|     NULL|      NULL|    NULL|       NULL|     NULL|NULL|\n",
      "+---------+--------+---------+----------+--------+-----------+---------+----+\n",
      "only showing top 20 rows\n",
      "\n"
     ]
    }
   ],
   "source": [
    "from pyspark.sql.functions import col, when\n",
    "df_lj.filter(col('Prod code').isNull()).show()\n",
    "df_lj.filter(col('Prod cls').isNull()).show()\n",
    "df_lj.filter(col('Prod name').isNull()).show()"
   ]
  },
  {
   "cell_type": "code",
   "execution_count": 27,
   "id": "12028672-b4e5-4c11-8c08-aaccc698cc35",
   "metadata": {},
   "outputs": [
    {
     "name": "stdout",
     "output_type": "stream",
     "text": [
      "+---------+--------+---------+----------+----------+-----------+----------+----------+\n",
      "|Prod code|Prod cls|Prod name|Start Date|  End Date|start_date2| End_date2|      CSID|\n",
      "+---------+--------+---------+----------+----------+-----------+----------+----------+\n",
      "|     1001|   Loans|Home loan|1980-01-01|31-12-4599| 1993-09-22|31-12-4399|2345650586|\n",
      "|     1001|   Loans|Home loan|1980-01-01|31-12-4599| 2005-12-30|31-12-4399|2345650511|\n",
      "|     1001|   Loans|Home loan|1980-01-01|31-12-4599| 1994-05-07|31-12-4399|2345650501|\n",
      "|     1001|   Loans|Home loan|1980-01-01|31-12-4599| 1990-02-22|31-12-4399|2345650427|\n",
      "|     1001|   Loans|Home loan|1980-01-01|31-12-4599| 2000-11-06|31-12-4399|2345650408|\n",
      "|     1001|   Loans|Home loan|1980-01-01|31-12-4599| 2004-04-04|31-12-4399|2345650376|\n",
      "|     1001|   Loans|Home loan|1980-01-01|31-12-4599| 2011-05-16|31-12-4399|2345650321|\n",
      "|     1001|   Loans|Home loan|1980-01-01|31-12-4599| 1991-12-25|31-12-4399|2345650311|\n",
      "|     1001|   Loans|Home loan|1980-01-01|31-12-4599| 1997-03-27|31-12-4399|2345650306|\n",
      "|     1001|   Loans|Home loan|1980-01-01|31-12-4599| 1995-05-28|31-12-4399|2345650271|\n",
      "|     1001|   Loans|Home loan|1980-01-01|31-12-4599| 2018-01-24|31-12-4399|2345650248|\n",
      "|     1001|   Loans|Home loan|1980-01-01|31-12-4599| 2001-03-25|31-12-4399|2345650180|\n",
      "|     1001|   Loans|Home loan|1980-01-01|31-12-4599| 1990-03-22|31-12-4399|2345650128|\n",
      "|     1001|   Loans|Home loan|1980-01-01|31-12-4599| 2006-04-30|31-12-4399|2345650073|\n",
      "|     1001|   Loans|Home loan|1980-01-01|31-12-4599| 2007-09-15|31-12-4399|2345650007|\n",
      "|     1001|   Loans|Home loan|1980-01-01|31-12-4599| 2011-01-20|31-12-4399|2345649982|\n",
      "|     1001|   Loans|Home loan|1980-01-01|31-12-4599| 2024-03-08|31-12-4399|2345649926|\n",
      "|     1001|   Loans|Home loan|1980-01-01|31-12-4599| 1983-10-13|31-12-4399|2345649923|\n",
      "|     1001|   Loans|Home loan|1980-01-01|31-12-4599| 2003-06-10|31-12-4399|2345649919|\n",
      "|     1001|   Loans|Home loan|1980-01-01|31-12-4599| 1987-08-26|31-12-4399|2345649905|\n",
      "+---------+--------+---------+----------+----------+-----------+----------+----------+\n",
      "only showing top 20 rows\n",
      "\n"
     ]
    }
   ],
   "source": [
    "all_cleaned=df_lj.dropna(how='all')\n",
    "all_cleaned.show()"
   ]
  },
  {
   "cell_type": "code",
   "execution_count": 29,
   "id": "22f6c6d2-9808-423e-9f25-068e5553caa1",
   "metadata": {},
   "outputs": [
    {
     "name": "stdout",
     "output_type": "stream",
     "text": [
      "+---------+-----+\n",
      "|Prod code|count|\n",
      "+---------+-----+\n",
      "|     1005| 4861|\n",
      "|     8003| 4868|\n",
      "|     2003| 4846|\n",
      "|     2007| 4878|\n",
      "|     8001| 4910|\n",
      "|     2006| 4924|\n",
      "|     5003| 4925|\n",
      "|     8004| 4874|\n",
      "|     8005| 5027|\n",
      "|     7001| 5000|\n",
      "|     1008| 4859|\n",
      "|     5001| 5027|\n",
      "|     5004| 4774|\n",
      "|     4001| 4777|\n",
      "|     6002| 5001|\n",
      "|     3001| 4764|\n",
      "|     1010| 4841|\n",
      "|     1002| 4910|\n",
      "|     8002| 4835|\n",
      "|     3003| 4836|\n",
      "+---------+-----+\n",
      "only showing top 20 rows\n",
      "\n",
      "+----------+-----+\n",
      "|  Prod cls|count|\n",
      "+----------+-----+\n",
      "| Insurance|24514|\n",
      "|   Savings|24178|\n",
      "|     Loans|53794|\n",
      "|     Cards|34177|\n",
      "| Mortgages|14732|\n",
      "|   Current|19157|\n",
      "|Investment|19667|\n",
      "|     Forex| 9781|\n",
      "+----------+-----+\n",
      "\n",
      "+--------------------+-----+\n",
      "|           Prod name|count|\n",
      "+--------------------+-----+\n",
      "|           gold loan| 4861|\n",
      "|Certificate of de...| 4836|\n",
      "|      Limited Access| 4896|\n",
      "|    Travel Insurance| 5027|\n",
      "|              Travel| 4869|\n",
      "|      credit builder| 9740|\n",
      "|       Personal Loan| 4910|\n",
      "|            car loan| 4833|\n",
      "|            purchase| 4812|\n",
      "|      Home Insurance| 4910|\n",
      "|           Tax Saver| 4786|\n",
      "|             Managed| 4781|\n",
      "|         travel plus| 4924|\n",
      "|    health insurance| 4874|\n",
      "|           home loan| 4892|\n",
      "|               Joint| 4763|\n",
      "|  personal loan plus| 4841|\n",
      "|       Youth Account| 4792|\n",
      "|automobile insurance| 4835|\n",
      "|     automobile loan| 4791|\n",
      "+--------------------+-----+\n",
      "only showing top 20 rows\n",
      "\n"
     ]
    }
   ],
   "source": [
    "all_cleaned.groupBy('Prod code').count().show()\n",
    "all_cleaned.groupBy('Prod cls').count().show()\n",
    "all_cleaned.groupBy('Prod name').count().show()"
   ]
  },
  {
   "cell_type": "code",
   "execution_count": 30,
   "id": "f8b522f4-3ff3-45ad-98ee-bea3e668d164",
   "metadata": {},
   "outputs": [],
   "source": [
    "df_dropped = all_cleaned.drop(\"End_date2\")"
   ]
  },
  {
   "cell_type": "code",
   "execution_count": 31,
   "id": "808924a3-cacf-4093-ad5f-b1f8c17bc191",
   "metadata": {},
   "outputs": [
    {
     "name": "stdout",
     "output_type": "stream",
     "text": [
      "+---------+--------+---------+----------+----------+-----------+----------+\n",
      "|Prod code|Prod cls|Prod name|Start Date|  End Date|start_date2|      CSID|\n",
      "+---------+--------+---------+----------+----------+-----------+----------+\n",
      "|     1001|   Loans|Home loan|1980-01-01|31-12-4599| 1993-09-22|2345650586|\n",
      "|     1001|   Loans|Home loan|1980-01-01|31-12-4599| 2005-12-30|2345650511|\n",
      "|     1001|   Loans|Home loan|1980-01-01|31-12-4599| 1994-05-07|2345650501|\n",
      "|     1001|   Loans|Home loan|1980-01-01|31-12-4599| 1990-02-22|2345650427|\n",
      "|     1001|   Loans|Home loan|1980-01-01|31-12-4599| 2000-11-06|2345650408|\n",
      "|     1001|   Loans|Home loan|1980-01-01|31-12-4599| 2004-04-04|2345650376|\n",
      "|     1001|   Loans|Home loan|1980-01-01|31-12-4599| 2011-05-16|2345650321|\n",
      "|     1001|   Loans|Home loan|1980-01-01|31-12-4599| 1991-12-25|2345650311|\n",
      "|     1001|   Loans|Home loan|1980-01-01|31-12-4599| 1997-03-27|2345650306|\n",
      "|     1001|   Loans|Home loan|1980-01-01|31-12-4599| 1995-05-28|2345650271|\n",
      "|     1001|   Loans|Home loan|1980-01-01|31-12-4599| 2018-01-24|2345650248|\n",
      "|     1001|   Loans|Home loan|1980-01-01|31-12-4599| 2001-03-25|2345650180|\n",
      "|     1001|   Loans|Home loan|1980-01-01|31-12-4599| 1990-03-22|2345650128|\n",
      "|     1001|   Loans|Home loan|1980-01-01|31-12-4599| 2006-04-30|2345650073|\n",
      "|     1001|   Loans|Home loan|1980-01-01|31-12-4599| 2007-09-15|2345650007|\n",
      "|     1001|   Loans|Home loan|1980-01-01|31-12-4599| 2011-01-20|2345649982|\n",
      "|     1001|   Loans|Home loan|1980-01-01|31-12-4599| 2024-03-08|2345649926|\n",
      "|     1001|   Loans|Home loan|1980-01-01|31-12-4599| 1983-10-13|2345649923|\n",
      "|     1001|   Loans|Home loan|1980-01-01|31-12-4599| 2003-06-10|2345649919|\n",
      "|     1001|   Loans|Home loan|1980-01-01|31-12-4599| 1987-08-26|2345649905|\n",
      "+---------+--------+---------+----------+----------+-----------+----------+\n",
      "only showing top 20 rows\n",
      "\n"
     ]
    }
   ],
   "source": [
    "df_dropped.show()"
   ]
  },
  {
   "cell_type": "code",
   "execution_count": 32,
   "id": "1015ac6b-aff9-4c9a-a393-c4da3358065f",
   "metadata": {},
   "outputs": [
    {
     "name": "stdout",
     "output_type": "stream",
     "text": [
      "+---------+--------+---------+----------+--------+-----------+----+\n",
      "|Prod code|Prod cls|Prod name|Start Date|End Date|start_date2|CSID|\n",
      "+---------+--------+---------+----------+--------+-----------+----+\n",
      "+---------+--------+---------+----------+--------+-----------+----+\n",
      "\n",
      "+---------+--------+---------+----------+--------+-----------+----+\n",
      "|Prod code|Prod cls|Prod name|Start Date|End Date|start_date2|CSID|\n",
      "+---------+--------+---------+----------+--------+-----------+----+\n",
      "+---------+--------+---------+----------+--------+-----------+----+\n",
      "\n",
      "+---------+--------+---------+----------+--------+-----------+----+\n",
      "|Prod code|Prod cls|Prod name|Start Date|End Date|start_date2|CSID|\n",
      "+---------+--------+---------+----------+--------+-----------+----+\n",
      "+---------+--------+---------+----------+--------+-----------+----+\n",
      "\n",
      "+---------+--------+---------+----------+--------+-----------+----+\n",
      "|Prod code|Prod cls|Prod name|Start Date|End Date|start_date2|CSID|\n",
      "+---------+--------+---------+----------+--------+-----------+----+\n",
      "+---------+--------+---------+----------+--------+-----------+----+\n",
      "\n",
      "+---------+--------+---------+----------+--------+-----------+----+\n",
      "|Prod code|Prod cls|Prod name|Start Date|End Date|start_date2|CSID|\n",
      "+---------+--------+---------+----------+--------+-----------+----+\n",
      "+---------+--------+---------+----------+--------+-----------+----+\n",
      "\n",
      "+---------+--------+---------+----------+--------+-----------+----+\n",
      "|Prod code|Prod cls|Prod name|Start Date|End Date|start_date2|CSID|\n",
      "+---------+--------+---------+----------+--------+-----------+----+\n",
      "+---------+--------+---------+----------+--------+-----------+----+\n",
      "\n"
     ]
    }
   ],
   "source": [
    "df_dropped.filter(col('Prod code').isNull()).show()\n",
    "df_dropped.filter(col('Prod cls').isNull()).show()\n",
    "df_dropped.filter(col('Prod name').isNull()).show()\n",
    "df_dropped.filter(col('Start Date').isNull()).show()\n",
    "df_dropped.filter(col('start_date2').isNull()).show()\n",
    "df_dropped.filter(col('CSID').isNull()).show()"
   ]
  },
  {
   "cell_type": "code",
   "execution_count": 33,
   "id": "ff83efa9-9034-44fe-a154-f92c4a8a0689",
   "metadata": {},
   "outputs": [
    {
     "name": "stdout",
     "output_type": "stream",
     "text": [
      "+---------+--------+---------+----------+----------+-----------+----------+\n",
      "|Prod code|Prod cls|Prod name|Start Date|  End Date|start_date2|      CSID|\n",
      "+---------+--------+---------+----------+----------+-----------+----------+\n",
      "|     1001|   Loans|Home loan|1980-01-01|4599-12-31| 1993-09-22|2345650586|\n",
      "|     1001|   Loans|Home loan|1980-01-01|4599-12-31| 2005-12-30|2345650511|\n",
      "|     1001|   Loans|Home loan|1980-01-01|4599-12-31| 1994-05-07|2345650501|\n",
      "|     1001|   Loans|Home loan|1980-01-01|4599-12-31| 1990-02-22|2345650427|\n",
      "|     1001|   Loans|Home loan|1980-01-01|4599-12-31| 2000-11-06|2345650408|\n",
      "|     1001|   Loans|Home loan|1980-01-01|4599-12-31| 2004-04-04|2345650376|\n",
      "|     1001|   Loans|Home loan|1980-01-01|4599-12-31| 2011-05-16|2345650321|\n",
      "|     1001|   Loans|Home loan|1980-01-01|4599-12-31| 1991-12-25|2345650311|\n",
      "|     1001|   Loans|Home loan|1980-01-01|4599-12-31| 1997-03-27|2345650306|\n",
      "|     1001|   Loans|Home loan|1980-01-01|4599-12-31| 1995-05-28|2345650271|\n",
      "|     1001|   Loans|Home loan|1980-01-01|4599-12-31| 2018-01-24|2345650248|\n",
      "|     1001|   Loans|Home loan|1980-01-01|4599-12-31| 2001-03-25|2345650180|\n",
      "|     1001|   Loans|Home loan|1980-01-01|4599-12-31| 1990-03-22|2345650128|\n",
      "|     1001|   Loans|Home loan|1980-01-01|4599-12-31| 2006-04-30|2345650073|\n",
      "|     1001|   Loans|Home loan|1980-01-01|4599-12-31| 2007-09-15|2345650007|\n",
      "|     1001|   Loans|Home loan|1980-01-01|4599-12-31| 2011-01-20|2345649982|\n",
      "|     1001|   Loans|Home loan|1980-01-01|4599-12-31| 2024-03-08|2345649926|\n",
      "|     1001|   Loans|Home loan|1980-01-01|4599-12-31| 1983-10-13|2345649923|\n",
      "|     1001|   Loans|Home loan|1980-01-01|4599-12-31| 2003-06-10|2345649919|\n",
      "|     1001|   Loans|Home loan|1980-01-01|4599-12-31| 1987-08-26|2345649905|\n",
      "+---------+--------+---------+----------+----------+-----------+----------+\n",
      "only showing top 20 rows\n",
      "\n"
     ]
    }
   ],
   "source": [
    "from pyspark.sql.functions import col, to_date, date_format\n",
    "df_formatted = df_dropped.withColumn(\"End Date\", date_format(to_date(col(\"End Date\"), \"dd-MM-yyyy\"), \"yyyy-MM-dd\"))\n",
    "df_formatted.show()"
   ]
  },
  {
   "cell_type": "code",
   "execution_count": 34,
   "id": "df3f2158-7028-4418-9cd1-20f3bbda6d17",
   "metadata": {},
   "outputs": [
    {
     "name": "stdout",
     "output_type": "stream",
     "text": [
      "root\n",
      " |-- Prod code: integer (nullable = true)\n",
      " |-- Prod cls: string (nullable = true)\n",
      " |-- Prod name: string (nullable = true)\n",
      " |-- Start Date: date (nullable = true)\n",
      " |-- End Date: string (nullable = true)\n",
      " |-- start_date2: date (nullable = true)\n",
      " |-- CSID: long (nullable = true)\n",
      "\n"
     ]
    }
   ],
   "source": [
    "df_formatted.printSchema()"
   ]
  },
  {
   "cell_type": "code",
   "execution_count": 38,
   "id": "85dad380-ecdd-45a3-a990-a08a8a35368c",
   "metadata": {},
   "outputs": [],
   "source": [
    "from pyspark.sql.types import DateType\n",
    "final_data = df_formatted.withColumn('End Date', col('End Date').cast(DateType()))"
   ]
  },
  {
   "cell_type": "code",
   "execution_count": 39,
   "id": "4fd79b18-4831-4a03-ba89-6c6f05096b29",
   "metadata": {},
   "outputs": [
    {
     "name": "stdout",
     "output_type": "stream",
     "text": [
      "root\n",
      " |-- Prod code: integer (nullable = true)\n",
      " |-- Prod cls: string (nullable = true)\n",
      " |-- Prod name: string (nullable = true)\n",
      " |-- Start Date: date (nullable = true)\n",
      " |-- End Date: date (nullable = true)\n",
      " |-- start_date2: date (nullable = true)\n",
      " |-- CSID: long (nullable = true)\n",
      "\n"
     ]
    }
   ],
   "source": [
    "final_data.printSchema()"
   ]
  },
  {
   "cell_type": "code",
   "execution_count": 42,
   "id": "27743f94-ea4c-466b-beeb-65f98ea6ac5e",
   "metadata": {},
   "outputs": [],
   "source": [
    "# Convert PySpark DataFrame to Pandas DataFrame\n",
    "df_pandas = final_data.toPandas()\n",
    "\n",
    "# Overwrite existing file using Pandas\n",
    "file_path = \"C:/Users/Balu/Documents/Tamanna/Pyspark- Tableau data/Product_details.csv\" \n",
    "df_pandas.to_csv(file_path, index=False)"
   ]
  },
  {
   "cell_type": "code",
   "execution_count": null,
   "id": "431499ef-b45a-47f2-bc36-d995a0fe16bf",
   "metadata": {},
   "outputs": [],
   "source": [
    "df = spark.read.csv( \"P_Lookup.csv\", header= True, inferSchema= True)\n",
    "df1 =spark.read.csv( \"Customer_Products.csv\", header= True, inferSchema= True)"
   ]
  }
 ],
 "metadata": {
  "kernelspec": {
   "display_name": "Python 3 (ipykernel)",
   "language": "python",
   "name": "python3"
  },
  "language_info": {
   "codemirror_mode": {
    "name": "ipython",
    "version": 3
   },
   "file_extension": ".py",
   "mimetype": "text/x-python",
   "name": "python",
   "nbconvert_exporter": "python",
   "pygments_lexer": "ipython3",
   "version": "3.11.7"
  }
 },
 "nbformat": 4,
 "nbformat_minor": 5
}
